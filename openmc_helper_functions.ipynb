{
 "cells": [
  {
   "cell_type": "code",
   "execution_count": 3,
   "id": "75ab6dc2-960c-4b18-bdc9-d93371021f26",
   "metadata": {},
   "outputs": [],
   "source": [
    "import numpy as np\n",
    "import openmc\n",
    "import pandas as pd"
   ]
  },
  {
   "cell_type": "code",
   "execution_count": 4,
   "id": "f9939bc2-49b4-4c90-bc92-63159fa547a0",
   "metadata": {},
   "outputs": [],
   "source": [
    "df = pd.read_csv('Tanks_Slurry_Inventory - all_tank_data.csv')"
   ]
  },
  {
   "cell_type": "code",
   "execution_count": 141,
   "id": "20346461-9b10-44c3-a320-365df4f13dbb",
   "metadata": {},
   "outputs": [],
   "source": [
    "def total_molecular_mass_per_molecule_dict(data,tankID,WastePhase,compounds,molecules):\n",
    "    c = 12.011\n",
    "    h = 1.008\n",
    "    o = 15.999\n",
    "    p = 30.973761998\n",
    "    n = 14.007\n",
    "    cl = 35.45\n",
    "    f = 18.998403162\n",
    "    s = 32.06\n",
    "    tl = 204.38\n",
    "    nuclides = ['C','H','O','P','N','Cl','F','S','Tl']\n",
    "    elem_mass = np.array([c,h,o,p,n,cl,f,s,tl])\n",
    "    compounds = compounds\n",
    "    compound_mol_dict = dict(zip(compounds,molecules))\n",
    "    total_compound_molecules = np.zeros((9))\n",
    "    analytes = data.loc[(data['WasteSiteId'] == tankID) & (data['WastePhase'] == WastePhase),['Analyte','WastePhase Volume (L)']].values[:,0]\n",
    "    for compound in analytes:\n",
    "        if compound in compounds:\n",
    "           total_compound_molecules += compound_mol_dict[compound]\n",
    "    total_molecule_mass = total_compound_molecules*elem_mass\n",
    "    nuclide_per_compound = dict(zip(nuclides,total_molecule_mass))\n",
    "    return nuclide_per_compound\n",
    "\n",
    "\n",
    "'''\n",
    "Takes in the total excel waste data, tank ID, desired waste phase, and the list of total individual elements surveyed and\n",
    "outputs the mass of each element surveyed per tank per waste phase as a dictionary\n",
    "'''\n",
    "def element_masses_per_tank_per_waste_phase(data,tankID,WastePhase,elements):\n",
    "    analytes = df.loc[(df['WasteSiteId'] == tankID) & (df['WastePhase'] == WastePhase),['Analyte']].values[:,0]\n",
    "    elements_dict = dict(zip(elements,np.zeros(len(elements))))\n",
    "    for analyte in analytes:\n",
    "        if analyte in elements:\n",
    "            elements_dict[analyte] += df.loc[(df['WasteSiteId'] == tankID) & (df['WastePhase'] == WastePhase)\n",
    "                                            & (df['Analyte'] == analyte),['Mass (kg)']].values[0,0]\n",
    "    return elements_dict\n",
    "\n",
    "\n",
    "'''\n",
    "Takes in the total excel waste data, tank ID, desired waste phase, and\n",
    "outputs the mass of each indiviudally labled nuclide per tank per waste phase as a dictionary.\n",
    "The nuclides are reformatted so that the element symbol is first followed by the mass number to make it easier to put into openmc.\n",
    "'''\n",
    "def nuclide_masses_per_tank_waste_phase(data,tankID,WastePhase):\n",
    "    analytes = df.loc[(df['WasteSiteId'] == tankID) & (df['WastePhase'] == WastePhase),['Analyte']].values[:,0]\n",
    "    nuclides = []\n",
    "    nuclides_reformatted = []\n",
    "    masses = []\n",
    "    for i in range(len(analytes)):\n",
    "        if analytes[i][0].isdigit():\n",
    "           if ((analytes[i][1].isdigit()) or ((analytes[i][1].isalpha()))):\n",
    "               nuclides.append(analytes[i])\n",
    "               masses.append(df.loc[(df['WasteSiteId'] == tankID) & (df['WastePhase'] == WastePhase)& (df['Analyte'] == analytes[i]),['Mass (kg)']].values[0,0])\n",
    "    nuclides_mass_dict = dict(zip(nuclides,masses))\n",
    "    for analyte in analytes:\n",
    "        if analyte[0].isdigit():\n",
    "            digits = ''\n",
    "            letters = ''\n",
    "            new_key = ''\n",
    "            for i in range(len(analyte)):\n",
    "                if analyte[0].isdigit():\n",
    "                    if ((analyte[1].isdigit()) or ((analyte[1].isalpha()))):\n",
    "                        if analyte[i].isdigit():\n",
    "                                digits += analyte[i]\n",
    "                        if analyte[i].isalpha():\n",
    "                            if analyte[i] == 'm':\n",
    "                                if analyte[i-1].isdigit():\n",
    "                                    digits += analyte[i]\n",
    "                                else:\n",
    "                                    letters += analyte[i]\n",
    "                            else:\n",
    "                                letters += analyte[i]\n",
    "            new_key = letters+digits\n",
    "            nuclides_reformatted.append(new_key)\n",
    "    nuclides_reformatted_dict = dict(zip(nuclides_reformatted,nuclides_mass_dict.values()))\n",
    "    return nuclides_reformatted_dict\n",
    "\n",
    "def compounds_in_tank_list(data,tankID,WastePhase,compounds):\n",
    "    analytes = df.loc[(df['WasteSiteId'] == tankID) & (df['WastePhase'] == WastePhase),['Analyte']].values[:,0]\n",
    "    compounds_present = []\n",
    "    for analyte in analytes:\n",
    "        if analyte in compounds:\n",
    "            compounds_present.append(analyte)\n",
    "    return compounds_present\n",
    "\n",
    "def elements_from_nuclides(data,tankID,WastePhase):\n",
    "    nuclides = nuclide_masses_per_tank_waste_phase(data,tankID,WastePhase)\n",
    "    elements_separated = []\n",
    "    for compounds in nuclides.keys():\n",
    "        letters = ''\n",
    "        for i in range(len(compounds)):\n",
    "            sep_element = ''\n",
    "            if i < 2:\n",
    "                if compounds[i].isalpha():\n",
    "                    letters += compounds[i]\n",
    "        sep_element = letters\n",
    "        elements_separated.append(sep_element)\n",
    "        elements_separated_dict = dict(zip(elements_separated,nuclides.keys()))\n",
    "    return elements_separated_dict\n",
    "'''\n",
    "must get objects returned from:\n",
    "    nuclide_masses_per_tank_waste_phase()\n",
    "    element_masses_per_tank_per_waste_phase()\n",
    "    total_molecular_mass_per_molecule_dict()\n",
    "    elements_from_nuclides()\n",
    "updates compound mass and element mass accordingly to avoid double counting\n",
    "'''\n",
    "def subtracting_nuclide_mass_from_comp_or_elements(nuclides_present,elements_present,compounds_present,elements_from_nuclides):\n",
    "    double_elements = ['C','H','O','P','N','Cl','F','S']\n",
    "    for substance in elements_present.keys():\n",
    "        if substance in double_elements:\n",
    "            if substance in elements_from_nuclides.keys():\n",
    "                elements_present[substance] -= nuclides_present[elements_from_nuclides[substance]]\n",
    "            elif compounds_present[substance] > 1e-8:\n",
    "                compounds_present[substance] -= nuclides_present[elements_from_nuclides[substance]]\n",
    "    return [elements_present,compounds_present]"
   ]
  },
  {
   "cell_type": "code",
   "execution_count": 53,
   "id": "b9daa7ae-b1ab-4b78-bd47-40ed1720c053",
   "metadata": {},
   "outputs": [],
   "source": [
    "elements = ['Ag','Al','As','B','Ba','Be','Bi','Br','Ca','Cd','Ce','Cl','Co','Cr','Cu','Eu','F','Fe','K','La','Li',\n",
    "            'Mg','Mn','Mo','Na','Nb','Nd','Ni','Pb']"
   ]
  },
  {
   "cell_type": "code",
   "execution_count": 7,
   "id": "cb0f68f4-b112-4c65-9962-c8a5b1fa35fd",
   "metadata": {},
   "outputs": [
    {
     "data": {
      "text/plain": [
       "{'red': 0.0, 'yellow': 0.0}"
      ]
     },
     "execution_count": 7,
     "metadata": {},
     "output_type": "execute_result"
    }
   ],
   "source": [
    "color = ['red','yellow']\n",
    "test = dict(zip(color,np.zeros(2)))\n",
    "test"
   ]
  },
  {
   "cell_type": "code",
   "execution_count": 8,
   "id": "ce2a91dd-07be-4591-951f-727614c15f77",
   "metadata": {},
   "outputs": [
    {
     "data": {
      "text/plain": [
       "6500.0"
      ]
     },
     "execution_count": 8,
     "metadata": {},
     "output_type": "execute_result"
    }
   ],
   "source": [
    "df.loc[(df['WasteSiteId'] == '241-A-104') & (df['WastePhase'] == 'Sludge (Liquid & Solid)')\n",
    "                                            & (df['Analyte'] == 'Al'),['Mass (kg)']].values[0,0]"
   ]
  },
  {
   "cell_type": "code",
   "execution_count": 54,
   "id": "df3e82a1-0658-435b-90fc-3833411f65d5",
   "metadata": {},
   "outputs": [
    {
     "data": {
      "text/plain": [
       "{'Ag': 50.3,\n",
       " 'Al': 6500.0,\n",
       " 'As': 5.38,\n",
       " 'B': 0.0,\n",
       " 'Ba': 188.0,\n",
       " 'Be': 2.81,\n",
       " 'Bi': 0.0,\n",
       " 'Br': 0.0,\n",
       " 'Ca': 1060.0,\n",
       " 'Cd': 0.936,\n",
       " 'Ce': 206.0,\n",
       " 'Cl': 42.1,\n",
       " 'Co': 230.0,\n",
       " 'Cr': 260.0,\n",
       " 'Cu': 161.0,\n",
       " 'Eu': 0.0,\n",
       " 'F': 22.4,\n",
       " 'Fe': 28200.0,\n",
       " 'K': 18.8,\n",
       " 'La': 115.0,\n",
       " 'Li': 0.0,\n",
       " 'Mg': 307.0,\n",
       " 'Mn': 5190.0,\n",
       " 'Mo': 10.5,\n",
       " 'Na': 10700.0,\n",
       " 'Nb': 0.0,\n",
       " 'Nd': 918.0,\n",
       " 'Ni': 1310.0,\n",
       " 'Pb': 1180.0}"
      ]
     },
     "execution_count": 54,
     "metadata": {},
     "output_type": "execute_result"
    }
   ],
   "source": [
    "elements_dict = element_masses_per_tank_per_waste_phase(df,'241-A-104','Sludge (Liquid & Solid)',elements)\n",
    "elements_dict"
   ]
  },
  {
   "cell_type": "code",
   "execution_count": 10,
   "id": "2316b7df-bf0d-45a3-b635-7cef65cf82e4",
   "metadata": {},
   "outputs": [
    {
     "data": {
      "text/plain": [
       "False"
      ]
     },
     "execution_count": 10,
     "metadata": {},
     "output_type": "execute_result"
    }
   ],
   "source": [
    "a = ['r','-']\n",
    "a[1].isalpha()"
   ]
  },
  {
   "cell_type": "code",
   "execution_count": 75,
   "id": "0574daf8-de97-4908-aad5-11777841e0da",
   "metadata": {},
   "outputs": [
    {
     "data": {
      "text/plain": [
       "{'Ru106': 1.12e-15,\n",
       " 'Cd113m': 6.283702482e-07,\n",
       " 'Sb125': 6.03664416e-08,\n",
       " 'Sn126': 0.001532011991,\n",
       " 'I129': 0.0004435506713,\n",
       " 'Cs134': 2.113003e-10,\n",
       " 'Cs137': 0.01008238751,\n",
       " 'Ba137m': 1.5357727e-09,\n",
       " 'C14': 5.102497538e-06,\n",
       " 'Sm151': 0.2292165583,\n",
       " 'Eu152': 1.842150711e-05,\n",
       " 'Eu154': 0.000618129326,\n",
       " 'Eu155': 7.393068226e-05,\n",
       " 'Ra226': 1.85e-10,\n",
       " 'Ac227': 0.0,\n",
       " 'Ra228': 5.77e-18,\n",
       " 'Th229': 5.19e-12,\n",
       " 'Pa231': 2.75505446e-08,\n",
       " 'Th232': 1.43e-08,\n",
       " 'U232': 0.0,\n",
       " 'U233': 2.261809655e-07,\n",
       " 'U234': 0.002479551749,\n",
       " 'U235': 0.2984729292,\n",
       " 'U236': 0.006137530147,\n",
       " 'Np237': 0.004979359067,\n",
       " 'Pu238': 0.0001173448538,\n",
       " 'U238': 44.93245254,\n",
       " 'Pu239': 0.7523763493,\n",
       " 'Pu240': 0.05064294522,\n",
       " 'Am241': 0.07467040019,\n",
       " 'Pu241': 0.0004940788196,\n",
       " 'Cm242': 6.57715406e-08,\n",
       " 'Pu242': 0.0002109351203,\n",
       " 'Am243': 0.0006912788659,\n",
       " 'Cm243': 1.960086236e-07,\n",
       " 'Cm244': 2.32236387e-06,\n",
       " 'H3': 4.1677059e-09,\n",
       " 'Ni59': 0.007462499373,\n",
       " 'Co60': 2.750995135e-06,\n",
       " 'Ni63': 0.0009110292692,\n",
       " 'Se79': 0.0006004359118,\n",
       " 'Sr90': 0.3245671231,\n",
       " 'Y90': 8.244083766e-05,\n",
       " 'Nb93m': 9.213501968e-07,\n",
       " 'Zr93': 0.09676538296,\n",
       " 'Tc99': 0.07667807007}"
      ]
     },
     "execution_count": 75,
     "metadata": {},
     "output_type": "execute_result"
    }
   ],
   "source": [
    "nuclides = nuclide_masses_per_tank_waste_phase(df,'241-A-101','Sludge (Liquid & Solid)')\n",
    "nuclides"
   ]
  },
  {
   "cell_type": "code",
   "execution_count": 76,
   "id": "aa419b35-6b5c-4e58-b479-5eb4459b2bd2",
   "metadata": {},
   "outputs": [
    {
     "data": {
      "text/plain": [
       "{'Ru106': 1.12e-15,\n",
       " 'Cd113m': 6.283702482e-07,\n",
       " 'Sb125': 6.03664416e-08,\n",
       " 'Sn126': 0.001532011991,\n",
       " 'I129': 0.0004435506713,\n",
       " 'Cs134': 2.113003e-10,\n",
       " 'Cs137': 0.01008238751,\n",
       " 'Ba137m': 1.5357727e-09,\n",
       " 'C14': 5.102497538e-06,\n",
       " 'Sm151': 0.2292165583,\n",
       " 'Eu152': 1.842150711e-05,\n",
       " 'Eu154': 0.000618129326,\n",
       " 'Eu155': 7.393068226e-05,\n",
       " 'Ra226': 1.85e-10,\n",
       " 'Ac227': 0.0,\n",
       " 'Ra228': 5.77e-18,\n",
       " 'Th229': 5.19e-12,\n",
       " 'Pa231': 2.75505446e-08,\n",
       " 'Th232': 1.43e-08,\n",
       " 'U232': 0.0,\n",
       " 'U233': 2.261809655e-07,\n",
       " 'U234': 0.002479551749,\n",
       " 'U235': 0.2984729292,\n",
       " 'U236': 0.006137530147,\n",
       " 'Np237': 0.004979359067,\n",
       " 'Pu238': 0.0001173448538,\n",
       " 'U238': 44.93245254,\n",
       " 'Pu239': 0.7523763493,\n",
       " 'Pu240': 0.05064294522,\n",
       " 'Am241': 0.07467040019,\n",
       " 'Pu241': 0.0004940788196,\n",
       " 'Cm242': 6.57715406e-08,\n",
       " 'Pu242': 0.0002109351203,\n",
       " 'Am243': 0.0006912788659,\n",
       " 'Cm243': 1.960086236e-07,\n",
       " 'Cm244': 2.32236387e-06,\n",
       " 'H3': 4.1677059e-09,\n",
       " 'Ni59': 0.007462499373,\n",
       " 'Co60': 2.750995135e-06,\n",
       " 'Ni63': 0.0009110292692,\n",
       " 'Se79': 0.0006004359118,\n",
       " 'Sr90': 0.3245671231,\n",
       " 'Y90': 8.244083766e-05,\n",
       " 'Nb93m': 9.213501968e-07,\n",
       " 'Zr93': 0.09676538296,\n",
       " 'Tc99': 0.07667807007}"
      ]
     },
     "execution_count": 76,
     "metadata": {},
     "output_type": "execute_result"
    }
   ],
   "source": [
    "nuclides = nuclide_masses_per_tank_waste_phase(df,'241-A-101','Sludge (Liquid & Solid)')\n",
    "nuclides"
   ]
  },
  {
   "cell_type": "code",
   "execution_count": 13,
   "id": "bd681bc7-6891-4d00-b01e-1376709fcf62",
   "metadata": {},
   "outputs": [
    {
     "ename": "NameError",
     "evalue": "name 'analytes' is not defined",
     "output_type": "error",
     "traceback": [
      "\u001b[0;31m---------------------------------------------------------------------------\u001b[0m",
      "\u001b[0;31mNameError\u001b[0m                                 Traceback (most recent call last)",
      "Cell \u001b[0;32mIn[13], line 1\u001b[0m\n\u001b[0;32m----> 1\u001b[0m \u001b[38;5;28;01mif\u001b[39;00m ((\u001b[38;5;129;01mnot\u001b[39;00m \u001b[43manalytes\u001b[49m[\u001b[38;5;241m0\u001b[39m][\u001b[38;5;241m3\u001b[39m]\u001b[38;5;241m.\u001b[39misdigit()) \u001b[38;5;129;01mand\u001b[39;00m (\u001b[38;5;129;01mnot\u001b[39;00m analytes[\u001b[38;5;241m0\u001b[39m][\u001b[38;5;241m3\u001b[39m]\u001b[38;5;241m.\u001b[39misdigit())):\n\u001b[1;32m      2\u001b[0m     \u001b[38;5;28mprint\u001b[39m(\u001b[38;5;124m'\u001b[39m\u001b[38;5;124mFalse\u001b[39m\u001b[38;5;124m'\u001b[39m)\n",
      "\u001b[0;31mNameError\u001b[0m: name 'analytes' is not defined"
     ]
    }
   ],
   "source": [
    "if ((not analytes[0][3].isdigit()) and (not analytes[0][3].isdigit())):\n",
    "    print('False')"
   ]
  },
  {
   "cell_type": "code",
   "execution_count": 100,
   "id": "81b393a6-17f1-43d4-919d-ec92fb57370f",
   "metadata": {},
   "outputs": [
    {
     "data": {
      "text/plain": [
       "6500.0"
      ]
     },
     "execution_count": 100,
     "metadata": {},
     "output_type": "execute_result"
    }
   ],
   "source": [
    "df.loc[(df['WasteSiteId'] == '241-A-104') & (df['WastePhase'] == 'Sludge (Liquid & Solid)') & (df['Analyte'] == 'Al'),['Mass (kg)']].values[0,0]"
   ]
  },
  {
   "cell_type": "code",
   "execution_count": 89,
   "id": "89a9c5e7-9b31-42cf-a866-960d37cbffb0",
   "metadata": {},
   "outputs": [],
   "source": [
    "compounds = [\"1-Butanol\",\"1,1-Dichloroethene\",\"1,1,1-Trichloroethane\",\"1,1,2-Trichloro-1,2,2-trifluoroethane\",\"1,1,2-Trichloroethane\",\n",
    "             \"1,1,2,2-Tetrachloroethane\",\"1,2-Dichlorobenzene\",\"1,2-Dichloroethane\",\"1,2,4-Trichlorobenzene\",\"1,4-Dichlorobenzene\",\n",
    "             \"2-Butanone\",\"2-Chlorophenol\",\"2-Ethoxyethanol\",\"2-Methylphenol\",\"2-Nitrophenol\",\"2-Nitropropane\",\"2,4-Dinitrotoluene\",\n",
    "             \"2,4,5-Trichlorophenol\",\"2,4,6-Trichlorophenol\",\"2,6-Bis(1,1-dimethylethyl)-4-methylphenol\",\"4-Chloro-3-methylphenol\",\n",
    "             \"4-Methyl-2-Pentanone\",\"4-Nitrophenol\",\"Acenaphthene\",\"Acetate\",\"Acetone\",\"Aroclors(TotalPCB)\",\"Benzene\",\"Benzo(a)pyrene\",\n",
    "             \"Bis(2-ethylhexyl)phthalate\",\"Butylbenzylphthalate\",\"Carbondisulfide\",\"Carbontetrachloride\",\"Chlorobenzene\",\"Chloroform\",\n",
    "             \"CN\",\"Cresol\",\"Cresol(m&p)\",\"Cyclohexanone\",\"Di-n-butylphthalate\",\"Di-n-octylphthalate\",\"Dibenz[a,h]anthracene\",\n",
    "             \"Diethylphthalate\",\"Diphenylamine\",\"Ethylacetate\",\"Ethylether\",\"Ethylbenzene\",\"Fluoranthene\",\"Formate\",\"FreeOH\",\"Glycolate\",\n",
    "             \"Hexachlorobenzene\",\"Hexachlorobutadiene\",\"Hexachloroethane\",\"Hexone\",\"Isobutanol\",\"m-Cresol\",\"Methylenechloride\",\n",
    "             \"Morpholine,4-nitroso-\",\"N-Nitroso-di-n-propylamine\",\"N-Nitrosodimethylamine\",\"Naphthalene\",\"NH3\",\"Nitrobenzene\",\"NO2\",\n",
    "             \"NO3\",\"Oxalate\",\"Pentachlorophenol\",\"Phenol\",\"PO4\",\"Pyrene\",\"Pyridine\",\"SO4\",\"Sulfide\",\"Tetrachloroethene\",\"Thiosulfate\",\n",
    "             \"TlCasCO3\",\"Toluene\",\"Trans-1,3-Dichloropropene\",\"Tributylphosphate\",\"Trichloroethene\",\"Trichlorofluoromethane\",\n",
    "             \"Vinylchloride\",\"Xylene(m&p)\",\"Xylene(o)\",\"Xylenes(total)\"]\n",
    "\n",
    "formulae = [\"C4H10O\",\"C2H2Cl2\",\"C2H3Cl3\",\"C2Cl3F3\",\"C2H3Cl3\",\"C2H2Cl4\",\"C6H4Cl2\",\"C2H4Cl2\",\"C6H3Cl3\",\"C6H4Cl2\",\"C4H8O\",\"C6H5ClO\",\"C4H10O2\",\n",
    "            \"C7H8O\",\"C6H5NO3\",\"C3H7NO2\",\"C7H6N2O4\",\"C6H3Cl3O\",\"C6H3Cl3O\",\"C15H24O\",\"C7H7ClO\",\"C6H12O\",\"C6H5NO3\",\"C12H10\",\"C2H3O2\",\"C3H6O\",\n",
    "            \"C12H3.5Cl6.5\",\"C6H6\",\"C20H12\",\"C24H38O4\",\"C19H20O4\",\"CS2\",\"CCl4\",\"C6H5Cl\",\"CHCl3\",\"CN\",\"C7H8O\",\"C7H8O\",\"C6H10O\",\"C16H22O4\",\n",
    "            \"C24H38O4\",\"C22H14\",\"C12H14O4\",\"C12H11N\",\"C4H8O2\",\"C4H10O\",\"C8H10\",\"C16H10\",\"CHO2\",\"OH\",\"C2H3O3\",\"C6Cl6\",\"C4Cl6\",\"C2Cl6\",\n",
    "            \"C6H12O\",\"C4H10O\",\"C7H8O\",\"CH2Cl2\",\"C4H8N2O2\",\"C6H14N2O\",\"C2H6N2O\",\"C10H8\",\"NH3\",\"C6H5NO2\",\"NO2\",\"NO3\",\"C2O4\",\"C6HCl5O\",\"C6H6O\",\n",
    "            \"PO4\",\"C16H10\",\"C5H5N\",\"SO4\",\"S2\",\"C2Cl4\",\"O3S2\",\"Tl2CO3\",\"C7H8\",\"C3H4Cl2\",\"C12H27O4P\",\"C2HCl3\",\"CCl3F\",\"C2H3Cl\",\"C8H10\",\"C8H10\",\"C8H10\"]\n",
    "\n",
    "\n",
    "###################################[c,h,o,p,n,cl,f,s,tl]\n",
    "vec_Butanol =                      [4,10,1,0,0,0,0,0,0]\n",
    "vec_Dichloroethene =               [2,2,0,0,0,2,0,0,0]\n",
    "vec_Trichloroethane1 =             [2,3,0,0,0,3,0,0,0]\n",
    "vec_Trichlorotrifluoroethane =     [2,0,0,0,0,3,3,0,0]\n",
    "vec_Trichloroethane2 =             [2,3,0,0,0,3,0,0,0]\n",
    "vec_Tetrachloroethane =            [2,2,0,0,0,4,0,0,0]\n",
    "vec_Dichlorobenzene2 =             [6,4,0,0,0,2,0,0,0]\n",
    "vec_Dichloroethane =               [2,4,0,0,0,2,0,0,0]\n",
    "vec_Trichlorobenzene =             [6,3,0,0,0,3,0,0,0]\n",
    "vec_Dichlorobenzene4 =             [6,4,0,0,0,2,0,0,0]\n",
    "vec_Butanone =                     [4,8,1,0,0,0,0,0,0]\n",
    "vec_Chlorophenol =                 [6,5,1,0,0,1,0,0,0]\n",
    "vec_Ethoxyethanol =                [4,10,2,0,0,0,0,0,0]\n",
    "vec_Methylphenol =                 [7,8,1,0,0,0,0,0,0]\n",
    "vec_Nitrophenol2 =                 [6,5,3,0,1,0,0,0,0]\n",
    "vec_Nitropropane =                 [3,7,2,0,1,0,0,0,0]\n",
    "vec_Dinitrotoluene =               [7,6,4,0,2,0,0,0,0]\n",
    "vec_Trichlorophenol5 =             [6,3,1,0,0,3,0,0,0]\n",
    "vec_Trichlorophenol6 =             [6,3,1,0,0,3,0,0,0]\n",
    "vec_Bisdimethylethylmethylphenol = [15,24,1,0,0,0,0,0,0]\n",
    "vec_Chloromethylphenol =           [7,7,1,0,0,1,0,0,0]\n",
    "vec_Methylpentanone =              [6,12,1,0,0,0,0,0,0]\n",
    "vec_Nitrophenol4 =                 [6,5,3,0,1,0,0,0,0]\n",
    "vec_Acenaphthene =                 [12,10,0,0,0,0,0,0,0]\n",
    "vec_Acetate =                      [2,3,2,0,0,0,0,0,0]\n",
    "vec_Acetone =                      [3,6,1,0,0,0,0,0,0]\n",
    "vec_Aroclors =                     [12,3.5,0,0,0,6.5,0,0,0]\n",
    "vec_Benzene =                      [6,6,0,0,0,0,0,0,0]\n",
    "vec_Benzopyrene =                  [20,12,0,0,0,0,0,0,0]\n",
    "vec_Bisethylhexylphthalate =       [24,38,4,0,0,0,0,0,0]\n",
    "vec_Butylbenzylphthalate =         [19,20,4,0,0,0,0,0,0]\n",
    "vec_Carbondisulfide =              [1,0,0,0,0,0,0,2,0]\n",
    "vec_Carbontetrachloride =          [1,0,0,0,0,4,0,0,0]\n",
    "vec_Chlorobenzene =                [6,5,0,0,0,1,0,0,0]\n",
    "vec_Chloroform =                   [1,1,0,0,0,3,0,0,0]\n",
    "vec_CN =                           [1,0,0,0,1,0,0,0,0]\n",
    "vec_Cresol =                       [7,8,1,0,0,0,0,0,0]\n",
    "vec_Cresolmp =                     [7,8,1,0,0,0,0,0,0]\n",
    "vec_Cyclohexanone =                [6,10,1,0,0,0,0,0,0]\n",
    "vec_Dibutylphthalate =             [16,22,4,0,0,0,0,0,0]\n",
    "vec_Dioctylphthalate =             [24,38,4,0,0,0,0,0,0]\n",
    "vec_Dibenzanthracene =             [22,14,0,0,0,0,0,0,0]\n",
    "vec_Diethylphthalate =             [12,14,4,0,0,0,0,0,0]\n",
    "vec_Diphenylamine =                [12,11,0,0,1,0,0,0,0]\n",
    "vec_Ethylacetate =                 [4,8,2,0,0,0,0,0,0]\n",
    "vec_Ethylether =                   [4,10,1,0,0,0,0,0,0]\n",
    "vec_Ethylbenzene =                 [8,10,0,0,0,0,0,0,0]\n",
    "vec_Fluoranthene =                 [16,10,0,0,0,0,0,0,0]\n",
    "vec_Formate =                      [1,1,2,0,0,0,0,0,0]\n",
    "vec_FreeOH =                       [0,1,1,0,0,0,0,0,0]\n",
    "vec_Glycolate =                    [2,3,3,0,0,0,0,0,0]\n",
    "vec_Hexachlorobenzene =            [6,0,0,0,0,6,0,0,0]\n",
    "vec_Hexachlorobutadiene =          [4,0,0,0,0,6,0,0,0]\n",
    "vec_Hexachloroethane =             [2,0,0,0,0,6,0,0,0]\n",
    "vec_Hexone =                       [6,12,1,0,0,0,0,0,0]\n",
    "vec_Isobutanol =                   [4,10,1,0,0,0,0,0,0]\n",
    "vec_mCresol =                      [7,8,1,0,0,0,0,0,0]\n",
    "vec_Methylenechloride =            [1,2,0,0,0,2,0,0,0]\n",
    "vec_Morpholinenitroso =            [4,8,2,0,2,0,0,0,0]\n",
    "vec_Nitrosodipropylamine =         [6,14,1,0,2,0,0,0,0]\n",
    "vec_Nitrosodimethylamine =         [0,0,0,0,2,0,0,0,0]\n",
    "vec_Naphthalene =                  [10,8,0,0,0,0,0,0,0]\n",
    "vec_NH3 =                          [0,3,0,0,1,0,0,0,0]\n",
    "vec_Nitrobenzene =                 [6,5,2,0,1,0,0,0,0]\n",
    "vec_NO2 =                          [0,0,2,0,1,0,0,0,0]\n",
    "vec_NO3 =                          [0,0,3,0,1,0,0,0,0]\n",
    "vec_Oxalate =                      [2,0,4,0,0,0,0,0,0]\n",
    "vec_Pentachlorophenol =            [6,1,1,0,0,5,0,0,0]\n",
    "vec_Phenol =                       [6,6,1,0,0,0,0,0,0]\n",
    "vec_PO4 =                          [0,0,4,1,0,0,0,0,0]\n",
    "vec_Pyrene =                       [16,10,0,0,0,0,0,0,0]\n",
    "vec_Pyridine =                     [5,5,0,0,1,0,0,0,0]\n",
    "vec_SO4 =                          [0,0,4,0,0,0,0,1,0]\n",
    "vec_Sulfide =                      [0,0,0,0,0,0,0,2,0]\n",
    "vec_Tetrachloroethene =            [2,0,0,0,0,4,0,0,0]\n",
    "vec_Thiosulfate =                  [0,0,3,0,0,0,0,2,0]\n",
    "vec_TlCasCO3 =                     [1,0,3,0,0,0,0,0,2]\n",
    "vec_Toluene =                      [7,8,0,0,0,0,0,0,0]\n",
    "vec_Transdichloropropene =         [3,4,0,0,0,2,0,0,0]\n",
    "vec_Tributylphosphate =            [12,27,4,1,0,0,0,0,0]\n",
    "vec_Trichloroethene =              [2,1,0,0,0,3,0,0,0]\n",
    "vec_Trichlorofluoromethane =       [1,0,0,0,0,3,1,0,0]\n",
    "vec_Vinylchloride =                [2,3,0,0,0,1,0,0,0]\n",
    "vec_Xylenemp =                     [8,10,0,0,0,0,0,0,0]\n",
    "vec_Xyleneo =                      [8,10,0,0,0,0,0,0,0]\n",
    "vec_Xylenet =                      [8,10,0,0,0,0,0,0,0]\n",
    "\n",
    "mat_materials = np.stack((vec_Butanol,vec_Dichloroethene,vec_Trichloroethane1,vec_Trichlorotrifluoroethane,vec_Trichloroethane2,vec_Tetrachloroethane,\n",
    "                          vec_Dichlorobenzene2,vec_Dichloroethane,vec_Trichlorobenzene,vec_Dichlorobenzene4,vec_Butanone,vec_Chlorophenol,\n",
    "                          vec_Ethoxyethanol,vec_Methylphenol,vec_Nitrophenol2,vec_Nitropropane,vec_Dinitrotoluene,vec_Trichlorophenol5,\n",
    "                          vec_Trichlorophenol6,vec_Bisdimethylethylmethylphenol,vec_Chloromethylphenol,vec_Methylpentanone,vec_Nitrophenol4,\n",
    "                          vec_Acenaphthene,vec_Acetate,vec_Acetone,vec_Aroclors,vec_Benzene,vec_Benzopyrene,vec_Bisethylhexylphthalate,\n",
    "                          vec_Butylbenzylphthalate,vec_Carbondisulfide,vec_Carbontetrachloride,vec_Chlorobenzene,vec_Chloroform,vec_CN,vec_Cresol,\n",
    "                          vec_Cresolmp,vec_Cyclohexanone,vec_Dibutylphthalate,vec_Dioctylphthalate,vec_Dibenzanthracene,vec_Diethylphthalate,\n",
    "                          vec_Diphenylamine,vec_Ethylacetate,vec_Ethylether,vec_Ethylbenzene,vec_Fluoranthene,vec_Formate,vec_FreeOH,vec_Glycolate,\n",
    "                          vec_Hexachlorobenzene,vec_Hexachlorobutadiene,vec_Hexachloroethane,vec_Hexone,vec_Isobutanol,vec_mCresol,vec_Methylenechloride,\n",
    "                          vec_Morpholinenitroso,vec_Nitrosodipropylamine,vec_Nitrosodimethylamine,vec_Naphthalene,vec_NH3,vec_Nitrobenzene,vec_NO2,\n",
    "                          vec_NO3,vec_Oxalate,vec_Pentachlorophenol,vec_Phenol,vec_PO4,vec_Pyrene,vec_Pyridine,vec_SO4,vec_Sulfide,vec_Tetrachloroethene,\n",
    "                          vec_Thiosulfate,vec_TlCasCO3,vec_Toluene,vec_Transdichloropropene,vec_Tributylphosphate,vec_Trichloroethene,\n",
    "                          vec_Trichlorofluoromethane,vec_Vinylchloride,vec_Xylenemp,vec_Xyleneo,vec_Xylenet))\n"
   ]
  },
  {
   "cell_type": "code",
   "execution_count": 17,
   "id": "76051e28-8eed-47fb-bd96-c8045c68876e",
   "metadata": {},
   "outputs": [
    {
     "data": {
      "text/plain": [
       "{'1-Butanol': 'C4H10O',\n",
       " '1,1-Dichloroethene': 'C2H2Cl2',\n",
       " '1,1,1-Trichloroethane': 'C2H3Cl3',\n",
       " '1,1,2-Trichloro-1,2,2-trifluoroethane': 'C2Cl3F3',\n",
       " '1,1,2-Trichloroethane': 'C2H3Cl3',\n",
       " '1,1,2,2-Tetrachloroethane': 'C2H2Cl4',\n",
       " '1,2-Dichlorobenzene': 'C6H4Cl2',\n",
       " '1,2-Dichloroethane': 'C2H4Cl2',\n",
       " '1,2,4-Trichlorobenzene': 'C6H3Cl3',\n",
       " '1,4-Dichlorobenzene': 'C6H4Cl2',\n",
       " '2-Butanone': 'C4H8O',\n",
       " '2-Chlorophenol': 'C6H5ClO',\n",
       " '2-Ethoxyethanol': 'C4H10O2',\n",
       " '2-Methylphenol': 'C7H8O',\n",
       " '2-Nitrophenol': 'C6H5NO3',\n",
       " '2-Nitropropane': 'C3H7NO2',\n",
       " '2,4-Dinitrotoluene': 'C7H6N2O4',\n",
       " '2,4,5-Trichlorophenol': 'C6H3Cl3O',\n",
       " '2,4,6-Trichlorophenol': 'C6H3Cl3O',\n",
       " '2,6-Bis(1,1-dimethylethyl)-4-methylphenol': 'C15H24O',\n",
       " '4-Chloro-3-methylphenol': 'C7H7ClO',\n",
       " '4-Methyl-2-Pentanone': 'C6H12O',\n",
       " '4-Nitrophenol': 'C6H5NO3',\n",
       " 'Acenaphthene': 'C12H10',\n",
       " 'Acetate': 'C2H3O2',\n",
       " 'Acetone': 'C3H6O',\n",
       " 'Aroclors(TotalPCB)': 'C12H3.5Cl6.5',\n",
       " 'Benzene': 'C6H6',\n",
       " 'Benzo(a)pyrene': 'C20H12',\n",
       " 'Bis(2-ethylhexyl)phthalate': 'C24H38O4',\n",
       " 'Butylbenzylphthalate': 'C19H20O4',\n",
       " 'Carbondisulfide': 'CS2',\n",
       " 'Carbontetrachloride': 'CCl4',\n",
       " 'Chlorobenzene': 'C6H5Cl',\n",
       " 'Chloroform': 'CHCl3',\n",
       " 'CN': 'CN',\n",
       " 'Cresol': 'C7H8O',\n",
       " 'Cresol(m&p)': 'C7H8O',\n",
       " 'Cyclohexanone': 'C6H10O',\n",
       " 'Di-n-butylphthalate': 'C16H22O4',\n",
       " 'Di-n-octylphthalate': 'C24H38O4',\n",
       " 'Dibenz[a,h]anthracene': 'C22H14',\n",
       " 'Diethylphthalate': 'C12H14O4',\n",
       " 'Diphenylamine': 'C12H11N',\n",
       " 'Ethylacetate': 'C4H8O2',\n",
       " 'Ethylether': 'C4H10O',\n",
       " 'Ethylbenzene': 'C8H10',\n",
       " 'Fluoranthene': 'C16H10',\n",
       " 'Formate': 'CHO2',\n",
       " 'FreeOH': 'OH',\n",
       " 'Glycolate': 'C2H3O3',\n",
       " 'Hexachlorobenzene': 'C6Cl6',\n",
       " 'Hexachlorobutadiene': 'C4Cl6',\n",
       " 'Hexachloroethane': 'C2Cl6',\n",
       " 'Hexone': 'C6H12O',\n",
       " 'Isobutanol': 'C4H10O',\n",
       " 'm-Cresol': 'C7H8O',\n",
       " 'Methylenechloride': 'CH2Cl2',\n",
       " 'Morpholine,4-nitroso-': 'C4H8N2O2',\n",
       " 'N-Nitroso-di-n-propylamine': 'C6H14N2O',\n",
       " 'N-Nitrosodimethylamine': 'C2H6N2O',\n",
       " 'Naphthalene': 'C10H8',\n",
       " 'NH3': 'NH3',\n",
       " 'Nitrobenzene': 'C6H5NO2',\n",
       " 'NO2': 'NO2',\n",
       " 'NO3': 'NO3',\n",
       " 'Oxalate': 'C2O4',\n",
       " 'Pentachlorophenol': 'C6HCl5O',\n",
       " 'Phenol': 'C6H6O',\n",
       " 'PO4': 'PO4',\n",
       " 'Pyrene': 'C16H10',\n",
       " 'Pyridine': 'C5H5N',\n",
       " 'SO4': 'SO4',\n",
       " 'Sulfide': 'S2',\n",
       " 'Tetrachloroethene': 'C2Cl4',\n",
       " 'Thiosulfate': 'O3S2',\n",
       " 'TlCasCO3': 'Tl2CO3',\n",
       " 'Toluene': 'C7H8',\n",
       " 'Trans-1,3-Dichloropropene': 'C3H4Cl2',\n",
       " 'Tributylphosphate': 'C12H27O4P',\n",
       " 'Trichloroethene': 'C2HCl3',\n",
       " 'Trichlorofluoromethane': 'CCl3F',\n",
       " 'Vinylchloride': 'C2H3Cl',\n",
       " 'Xylene(m&p)': 'C8H10',\n",
       " 'Xylene(o)': 'C8H10',\n",
       " 'Xylenes(total)': 'C8H10'}"
      ]
     },
     "execution_count": 17,
     "metadata": {},
     "output_type": "execute_result"
    }
   ],
   "source": [
    "compounds_formula_dict = dict(zip(compounds,formulae))\n",
    "compounds_formula_dict"
   ]
  },
  {
   "cell_type": "code",
   "execution_count": 19,
   "id": "633dd44b-0565-407b-a706-ef3071ce15ba",
   "metadata": {},
   "outputs": [
    {
     "data": {
      "text/plain": [
       "['NO2', 'NO3', 'Oxalate', 'PO4', 'SO4']"
      ]
     },
     "execution_count": 19,
     "metadata": {},
     "output_type": "execute_result"
    }
   ],
   "source": [
    "compounds_in_tank = compounds_in_tank_list(df,'241-A-101','Sludge (Liquid & Solid)',compounds)\n",
    "compounds_in_tank"
   ]
  },
  {
   "cell_type": "code",
   "execution_count": 21,
   "id": "336bb5f0-3c73-4f5a-8897-baf7fe8ed27d",
   "metadata": {},
   "outputs": [
    {
     "data": {
      "text/plain": [
       "{'NO2': 0.0, 'NO3': 0.0, 'Oxalate': 0.0, 'PO4': 0.0, 'SO4': 0.0}"
      ]
     },
     "execution_count": 21,
     "metadata": {},
     "output_type": "execute_result"
    }
   ],
   "source": [
    "compounds_in_tank_dict = dict(zip(compounds_in_tank,np.zeros(len(compounds_in_tank))))\n",
    "compounds_in_tank_dict"
   ]
  },
  {
   "cell_type": "code",
   "execution_count": 24,
   "id": "eb99bbb7-14de-4899-9f5f-9b570bb58260",
   "metadata": {},
   "outputs": [
    {
     "data": {
      "text/plain": [
       "{'NO2': 'NO2', 'NO3': 'NO3', 'Oxalate': 'C2O4', 'PO4': 'PO4', 'SO4': 'SO4'}"
      ]
     },
     "execution_count": 24,
     "metadata": {},
     "output_type": "execute_result"
    }
   ],
   "source": [
    "for compound in compounds_in_tank_dict:\n",
    "    if compound in compounds_formula_dict:\n",
    "        compounds_in_tank_dict[compound] = compounds_formula_dict[compound]\n",
    "compounds_in_tank_dict"
   ]
  },
  {
   "cell_type": "code",
   "execution_count": 102,
   "id": "a1a14b82-1789-4367-b30f-9688175e47ac",
   "metadata": {},
   "outputs": [
    {
     "data": {
      "text/plain": [
       "{'Ag': 50.3,\n",
       " 'Al': 6500.0,\n",
       " 'As': 5.38,\n",
       " 'B': 0.0,\n",
       " 'Ba': 188.0,\n",
       " 'Be': 2.81,\n",
       " 'Bi': 0.0,\n",
       " 'Br': 0.0,\n",
       " 'Ca': 1060.0,\n",
       " 'Cd': 0.936,\n",
       " 'Ce': 206.0,\n",
       " 'Cl': 42.1,\n",
       " 'Co': 230.0,\n",
       " 'Cr': 260.0,\n",
       " 'Cu': 161.0,\n",
       " 'Eu': 0.0,\n",
       " 'F': 22.4,\n",
       " 'Fe': 28200.0,\n",
       " 'K': 18.8,\n",
       " 'La': 115.0,\n",
       " 'Li': 0.0,\n",
       " 'Mg': 307.0,\n",
       " 'Mn': 5190.0,\n",
       " 'Mo': 10.5,\n",
       " 'Na': 10700.0,\n",
       " 'Nb': 0.0,\n",
       " 'Nd': 918.0,\n",
       " 'Ni': 1310.0,\n",
       " 'Pb': 1180.0}"
      ]
     },
     "execution_count": 102,
     "metadata": {},
     "output_type": "execute_result"
    }
   ],
   "source": [
    "elements_in_tank = element_masses_per_tank_per_waste_phase(df,'241-A-104','Sludge (Liquid & Solid)',elements)\n",
    "elements_in_tank"
   ]
  },
  {
   "cell_type": "code",
   "execution_count": 30,
   "id": "1ba91210-471c-4150-bf44-f2e42ec50160",
   "metadata": {},
   "outputs": [
    {
     "data": {
      "text/plain": [
       "['C', 'H', 'Cl']"
      ]
     },
     "execution_count": 30,
     "metadata": {},
     "output_type": "execute_result"
    }
   ],
   "source": [
    "test = ['C','H','O','P','N','Cl','F','S']\n",
    "test_string = 'C2H3Cl'\n",
    "molecules_in_compounds = []\n",
    "for compound in test:\n",
    "    if compound in test_string:\n",
    "        if not compound in molecules_in_compounds:\n",
    "            molecules_in_compounds.append(compound)\n",
    "molecules_in_compounds"
   ]
  },
  {
   "cell_type": "code",
   "execution_count": 32,
   "id": "dba805bb-1489-43f8-8cc8-483014debd9e",
   "metadata": {},
   "outputs": [
    {
     "data": {
      "text/plain": [
       "{'C': 24.022,\n",
       " 'H': 0.0,\n",
       " 'O': 271.983,\n",
       " 'P': 30.973761998,\n",
       " 'N': 28.014,\n",
       " 'Cl': 0.0,\n",
       " 'F': 0.0,\n",
       " 'S': 32.06,\n",
       " 'Tl': 0.0}"
      ]
     },
     "execution_count": 32,
     "metadata": {},
     "output_type": "execute_result"
    }
   ],
   "source": [
    "molecule_mass_from_compounds = total_molecular_mass_per_molecule_dict(df,'241-A-101','Sludge (Liquid & Solid)',compounds,mat_materials)\n",
    "molecule_mass_from_compounds"
   ]
  },
  {
   "cell_type": "code",
   "execution_count": 77,
   "id": "17a5fe1e-3319-4776-b8bc-3cfa625180c8",
   "metadata": {},
   "outputs": [
    {
     "data": {
      "text/plain": [
       "{'Ru106': 1.12e-15,\n",
       " 'Cd113m': 6.283702482e-07,\n",
       " 'Sb125': 6.03664416e-08,\n",
       " 'Sn126': 0.001532011991,\n",
       " 'I129': 0.0004435506713,\n",
       " 'Cs134': 2.113003e-10,\n",
       " 'Cs137': 0.01008238751,\n",
       " 'Ba137m': 1.5357727e-09,\n",
       " 'C14': 5.102497538e-06,\n",
       " 'Sm151': 0.2292165583,\n",
       " 'Eu152': 1.842150711e-05,\n",
       " 'Eu154': 0.000618129326,\n",
       " 'Eu155': 7.393068226e-05,\n",
       " 'Ra226': 1.85e-10,\n",
       " 'Ac227': 0.0,\n",
       " 'Ra228': 5.77e-18,\n",
       " 'Th229': 5.19e-12,\n",
       " 'Pa231': 2.75505446e-08,\n",
       " 'Th232': 1.43e-08,\n",
       " 'U232': 0.0,\n",
       " 'U233': 2.261809655e-07,\n",
       " 'U234': 0.002479551749,\n",
       " 'U235': 0.2984729292,\n",
       " 'U236': 0.006137530147,\n",
       " 'Np237': 0.004979359067,\n",
       " 'Pu238': 0.0001173448538,\n",
       " 'U238': 44.93245254,\n",
       " 'Pu239': 0.7523763493,\n",
       " 'Pu240': 0.05064294522,\n",
       " 'Am241': 0.07467040019,\n",
       " 'Pu241': 0.0004940788196,\n",
       " 'Cm242': 6.57715406e-08,\n",
       " 'Pu242': 0.0002109351203,\n",
       " 'Am243': 0.0006912788659,\n",
       " 'Cm243': 1.960086236e-07,\n",
       " 'Cm244': 2.32236387e-06,\n",
       " 'H3': 4.1677059e-09,\n",
       " 'Ni59': 0.007462499373,\n",
       " 'Co60': 2.750995135e-06,\n",
       " 'Ni63': 0.0009110292692,\n",
       " 'Se79': 0.0006004359118,\n",
       " 'Sr90': 0.3245671231,\n",
       " 'Y90': 8.244083766e-05,\n",
       " 'Nb93m': 9.213501968e-07,\n",
       " 'Zr93': 0.09676538296,\n",
       " 'Tc99': 0.07667807007}"
      ]
     },
     "execution_count": 77,
     "metadata": {},
     "output_type": "execute_result"
    }
   ],
   "source": [
    "nuclides"
   ]
  },
  {
   "cell_type": "code",
   "execution_count": 34,
   "id": "a44e991f-79c9-458b-b3f9-d7fdad4023a6",
   "metadata": {},
   "outputs": [
    {
     "ename": "TypeError",
     "evalue": "dict.items() takes no arguments (1 given)",
     "output_type": "error",
     "traceback": [
      "\u001b[0;31m---------------------------------------------------------------------------\u001b[0m",
      "\u001b[0;31mTypeError\u001b[0m                                 Traceback (most recent call last)",
      "Cell \u001b[0;32mIn[34], line 1\u001b[0m\n\u001b[0;32m----> 1\u001b[0m \u001b[43mnuclides\u001b[49m\u001b[38;5;241;43m.\u001b[39;49m\u001b[43mitems\u001b[49m\u001b[43m(\u001b[49m\u001b[38;5;124;43m'\u001b[39;49m\u001b[38;5;124;43mCo60\u001b[39;49m\u001b[38;5;124;43m'\u001b[39;49m\u001b[43m)\u001b[49m\n",
      "\u001b[0;31mTypeError\u001b[0m: dict.items() takes no arguments (1 given)"
     ]
    }
   ],
   "source": [
    "nuclides.items()"
   ]
  },
  {
   "cell_type": "code",
   "execution_count": 78,
   "id": "0dc72065-b81f-4c47-8265-793ba53248d0",
   "metadata": {},
   "outputs": [
    {
     "name": "stdout",
     "output_type": "stream",
     "text": [
      "Cd113m 6.283702482e-07\n",
      "Sb125 6.03664416e-08\n",
      "Sn126 0.001532011991\n",
      "Cs134 2.113003e-10\n",
      "Cs137 0.01008238751\n",
      "C14 5.102497538e-06\n",
      "Sm151 0.2292165583\n",
      "Pa231 2.75505446e-08\n",
      "Np237 0.004979359067\n",
      "Pu238 0.0001173448538\n",
      "Pu239 0.7523763493\n",
      "Pu240 0.05064294522\n",
      "Pu241 0.0004940788196\n",
      "Cm242 6.57715406e-08\n",
      "Pu242 0.0002109351203\n",
      "Cm243 1.960086236e-07\n",
      "Cm244 2.32236387e-06\n",
      "H3 4.1677059e-09\n",
      "Ni59 0.007462499373\n",
      "Co60 2.750995135e-06\n",
      "Ni63 0.0009110292692\n",
      "Se79 0.0006004359118\n",
      "Sr90 0.3245671231\n",
      "Nb93m 9.213501968e-07\n"
     ]
    }
   ],
   "source": [
    "double_elements = ['C','H','O','P','N','Cl','F','S']\n",
    "for compounds in nuclides.keys():\n",
    "    for element in double_elements:\n",
    "        if element in compounds:\n",
    "            print(compounds,nuclides[compounds])"
   ]
  },
  {
   "cell_type": "code",
   "execution_count": 82,
   "id": "263e9c27-0628-462f-80fe-59f5973ae56a",
   "metadata": {},
   "outputs": [
    {
     "data": {
      "text/plain": [
       "{'Ru': 'Ru106',\n",
       " 'Cd': 'Cd113m',\n",
       " 'Sb': 'Sb125',\n",
       " 'Sn': 'Sn126',\n",
       " 'I': 'I129',\n",
       " 'Cs': 'Cs137',\n",
       " 'Ba': 'Ba137m',\n",
       " 'C': 'C14',\n",
       " 'Sm': 'Sm151',\n",
       " 'Eu': 'Eu155',\n",
       " 'Ra': 'Ra228',\n",
       " 'Ac': 'Ac227',\n",
       " 'Th': 'Th232',\n",
       " 'Pa': 'Pa231',\n",
       " 'U': 'U238',\n",
       " 'Np': 'Np237',\n",
       " 'Pu': 'Pu242',\n",
       " 'Am': 'Am243',\n",
       " 'Cm': 'Cm244',\n",
       " 'H': 'H3',\n",
       " 'Ni': 'Ni63',\n",
       " 'Co': 'Co60',\n",
       " 'Se': 'Se79',\n",
       " 'Sr': 'Sr90',\n",
       " 'Y': 'Y90',\n",
       " 'Nb': 'Nb93m',\n",
       " 'Zr': 'Zr93',\n",
       " 'Tc': 'Tc99'}"
      ]
     },
     "execution_count": 82,
     "metadata": {},
     "output_type": "execute_result"
    }
   ],
   "source": [
    "elements_separated = []\n",
    "for compounds in nuclides.keys():\n",
    "    letters = ''\n",
    "    for i in range(len(compounds)):\n",
    "        sep_element = ''\n",
    "        if i < 2:\n",
    "            if compounds[i].isalpha():\n",
    "                letters += compounds[i]\n",
    "    sep_element = letters\n",
    "    elements_separated.append(sep_element)\n",
    "    elements_separated_dict = dict(zip(elements_separated,nuclides.keys()))\n",
    "elements_separated_dict"
   ]
  },
  {
   "cell_type": "code",
   "execution_count": 50,
   "id": "106d07cb-03f1-4f17-9a03-3e8348a93577",
   "metadata": {},
   "outputs": [
    {
     "name": "stdout",
     "output_type": "stream",
     "text": [
      "C\n",
      "H\n"
     ]
    }
   ],
   "source": [
    "for elements in elements_separated:\n",
    "    if elements in double_elements:\n",
    "        print(elements)"
   ]
  },
  {
   "cell_type": "code",
   "execution_count": 101,
   "id": "0c5dfdfd-4144-498f-b696-8288d247ea5f",
   "metadata": {},
   "outputs": [
    {
     "data": {
      "text/plain": [
       "{'C': 24.022,\n",
       " 'H': 0.0,\n",
       " 'O': 271.983,\n",
       " 'P': 30.973761998,\n",
       " 'N': 28.014,\n",
       " 'Cl': 0.0,\n",
       " 'F': 0.0,\n",
       " 'S': 32.06,\n",
       " 'Tl': 0.0}"
      ]
     },
     "execution_count": 101,
     "metadata": {},
     "output_type": "execute_result"
    }
   ],
   "source": [
    "compounds_241_A_104 = total_molecular_mass_per_molecule_dict(df,'241-A-103','Sludge (Liquid & Solid)',compounds,mat_materials)\n",
    "compounds_241_A_104"
   ]
  },
  {
   "cell_type": "code",
   "execution_count": 66,
   "id": "4539785c-f6d9-479c-87b6-31d645476160",
   "metadata": {},
   "outputs": [
    {
     "name": "stdout",
     "output_type": "stream",
     "text": [
      "is zero\n"
     ]
    }
   ],
   "source": [
    "if compounds_241_A_104['F'] < 1e-8:\n",
    "    print('is zero')\n",
    "else:\n",
    "    print('not zero')"
   ]
  },
  {
   "cell_type": "code",
   "execution_count": 81,
   "id": "61c212fe-cfd7-4d2a-8ab7-ba26196b9acf",
   "metadata": {},
   "outputs": [
    {
     "name": "stdout",
     "output_type": "stream",
     "text": [
      "Cl\n",
      "F\n"
     ]
    }
   ],
   "source": [
    "for substance in elements_in_tank.keys():\n",
    "    if substance in double_elements:\n",
    "        print(substance)\n",
    "        "
   ]
  },
  {
   "cell_type": "code",
   "execution_count": 84,
   "id": "b7d87136-a1a2-4d80-a608-117661502d64",
   "metadata": {},
   "outputs": [
    {
     "data": {
      "text/plain": [
       "{'Ru': 'Ru106',\n",
       " 'Cd': 'Cd113m',\n",
       " 'Sb': 'Sb125',\n",
       " 'Sn': 'Sn126',\n",
       " 'I': 'I129',\n",
       " 'Cs': 'Cs137',\n",
       " 'Ba': 'Ba137m',\n",
       " 'C': 'C14',\n",
       " 'Sm': 'Sm151',\n",
       " 'Eu': 'Eu155',\n",
       " 'Ra': 'Ra228',\n",
       " 'Ac': 'Ac227',\n",
       " 'Th': 'Th232',\n",
       " 'Pa': 'Pa231',\n",
       " 'U': 'U238',\n",
       " 'Np': 'Np237',\n",
       " 'Pu': 'Pu242',\n",
       " 'Am': 'Am243',\n",
       " 'Cm': 'Cm244',\n",
       " 'H': 'H3',\n",
       " 'Ni': 'Ni63',\n",
       " 'Co': 'Co60',\n",
       " 'Se': 'Se79',\n",
       " 'Sr': 'Sr90',\n",
       " 'Y': 'Y90',\n",
       " 'Nb': 'Nb93m',\n",
       " 'Zr': 'Zr93',\n",
       " 'Tc': 'Tc99'}"
      ]
     },
     "execution_count": 84,
     "metadata": {},
     "output_type": "execute_result"
    }
   ],
   "source": [
    "nuclides_241A104 = elements_from_nuclides(df,'241-A-104','Sludge (Liquid & Solid)')\n",
    "nuclides_241A104"
   ]
  },
  {
   "cell_type": "code",
   "execution_count": 103,
   "id": "8ea79e76-16a7-41bb-95ab-95f6e793d268",
   "metadata": {},
   "outputs": [],
   "source": [
    "for substance in elements_in_tank.keys():\n",
    "    if substance in double_elements:\n",
    "        if substance in nuclides_241A104.keys():\n",
    "            elements_in_tank[substance] -= nuclides[nuclides_241A104[substance]]\n",
    "        elif compounds_241_A_104[substance] > 1e-8:\n",
    "            compounds_241_A_104[substance] -= nuclides[nuclides_241A104[substance]]"
   ]
  },
  {
   "cell_type": "code",
   "execution_count": 104,
   "id": "199b8813-1a6b-4ef2-a51f-0c06cc8189be",
   "metadata": {},
   "outputs": [
    {
     "data": {
      "text/plain": [
       "{'Ag': 50.3,\n",
       " 'Al': 6500.0,\n",
       " 'As': 5.38,\n",
       " 'B': 0.0,\n",
       " 'Ba': 188.0,\n",
       " 'Be': 2.81,\n",
       " 'Bi': 0.0,\n",
       " 'Br': 0.0,\n",
       " 'Ca': 1060.0,\n",
       " 'Cd': 0.936,\n",
       " 'Ce': 206.0,\n",
       " 'Cl': 42.1,\n",
       " 'Co': 230.0,\n",
       " 'Cr': 260.0,\n",
       " 'Cu': 161.0,\n",
       " 'Eu': 0.0,\n",
       " 'F': 22.4,\n",
       " 'Fe': 28200.0,\n",
       " 'K': 18.8,\n",
       " 'La': 115.0,\n",
       " 'Li': 0.0,\n",
       " 'Mg': 307.0,\n",
       " 'Mn': 5190.0,\n",
       " 'Mo': 10.5,\n",
       " 'Na': 10700.0,\n",
       " 'Nb': 0.0,\n",
       " 'Nd': 918.0,\n",
       " 'Ni': 1310.0,\n",
       " 'Pb': 1180.0}"
      ]
     },
     "execution_count": 104,
     "metadata": {},
     "output_type": "execute_result"
    }
   ],
   "source": [
    "elements_in_tank"
   ]
  },
  {
   "cell_type": "code",
   "execution_count": 105,
   "id": "4a22cbee-0813-4630-afac-480d7f08f9e5",
   "metadata": {},
   "outputs": [
    {
     "data": {
      "text/plain": [
       "{'C': 24.022,\n",
       " 'H': 0.0,\n",
       " 'O': 271.983,\n",
       " 'P': 30.973761998,\n",
       " 'N': 28.014,\n",
       " 'Cl': 0.0,\n",
       " 'F': 0.0,\n",
       " 'S': 32.06,\n",
       " 'Tl': 0.0}"
      ]
     },
     "execution_count": 105,
     "metadata": {},
     "output_type": "execute_result"
    }
   ],
   "source": [
    "compounds_241_A_104"
   ]
  },
  {
   "cell_type": "code",
   "execution_count": 127,
   "id": "bc03f5bf-d990-4f1f-99eb-552c45ec6f6b",
   "metadata": {},
   "outputs": [],
   "source": [
    "tank = '241-TX-101'\n",
    "WastePhase = 'Saltcake Interstitial Liquid'\n",
    "nuclides_tank = nuclide_masses_per_tank_waste_phase(df,tank,WastePhase)\n",
    "elements_tank = element_masses_per_tank_per_waste_phase(df,tank,WastePhase,elements)\n",
    "compounds_tank = total_molecular_mass_per_molecule_dict(df,tank,WastePhase,compounds,mat_materials)\n",
    "elements_from_nuclides = elements_from_nuclides(df,tank,WastePhase)"
   ]
  },
  {
   "cell_type": "code",
   "execution_count": 128,
   "id": "cccddd70-f454-44d2-96b1-d1cd93d3093e",
   "metadata": {},
   "outputs": [
    {
     "data": {
      "text/plain": [
       "{'Ag': 0.0,\n",
       " 'Al': 302.0,\n",
       " 'As': 0.0,\n",
       " 'B': 0.0,\n",
       " 'Ba': 0.0,\n",
       " 'Be': 0.0,\n",
       " 'Bi': 0.261,\n",
       " 'Br': 0.0,\n",
       " 'Ca': 0.505,\n",
       " 'Cd': 0.0,\n",
       " 'Ce': 0.0,\n",
       " 'Cl': 75.6,\n",
       " 'Co': 0.0,\n",
       " 'Cr': 13.8,\n",
       " 'Cu': 0.0,\n",
       " 'Eu': 0.0,\n",
       " 'F': 2.74,\n",
       " 'Fe': 0.206,\n",
       " 'K': 55.4,\n",
       " 'La': 1.2e-10,\n",
       " 'Li': 0.0,\n",
       " 'Mg': 0.0,\n",
       " 'Mn': 0.0495,\n",
       " 'Mo': 0.0,\n",
       " 'Na': 1890.0,\n",
       " 'Nb': 0.0,\n",
       " 'Nd': 0.0,\n",
       " 'Ni': 0.233,\n",
       " 'Pb': 0.514}"
      ]
     },
     "execution_count": 128,
     "metadata": {},
     "output_type": "execute_result"
    }
   ],
   "source": [
    "elements_tank"
   ]
  },
  {
   "cell_type": "code",
   "execution_count": 129,
   "id": "46de4005-cc45-4693-aa67-253cab349993",
   "metadata": {},
   "outputs": [
    {
     "data": {
      "text/plain": [
       "{'C': 24.022,\n",
       " 'H': 0.0,\n",
       " 'O': 271.983,\n",
       " 'P': 30.973761998,\n",
       " 'N': 28.014,\n",
       " 'Cl': 0.0,\n",
       " 'F': 0.0,\n",
       " 'S': 32.06,\n",
       " 'Tl': 0.0}"
      ]
     },
     "execution_count": 129,
     "metadata": {},
     "output_type": "execute_result"
    }
   ],
   "source": [
    "compounds_tank"
   ]
  },
  {
   "cell_type": "code",
   "execution_count": 130,
   "id": "90689b9f-5aa7-4bf0-b064-55692c269807",
   "metadata": {},
   "outputs": [],
   "source": [
    "elements_components = subtracting_nuclide_mass_from_comp_or_elements(nuclides_tank,elements_tank,compounds_tank,elements_from_nuclides)"
   ]
  },
  {
   "cell_type": "code",
   "execution_count": 140,
   "id": "1b384fad-6c28-464d-9993-b6f82bf01285",
   "metadata": {},
   "outputs": [
    {
     "data": {
      "text/plain": [
       "2"
      ]
     },
     "execution_count": 140,
     "metadata": {},
     "output_type": "execute_result"
    }
   ],
   "source": [
    "len(elements_components)"
   ]
  },
  {
   "cell_type": "code",
   "execution_count": 133,
   "id": "8da14120-d24e-44a9-add5-ad18d1097588",
   "metadata": {},
   "outputs": [
    {
     "data": {
      "text/plain": [
       "{'C': 24.022,\n",
       " 'H': 0.0,\n",
       " 'O': 271.983,\n",
       " 'P': 30.973761998,\n",
       " 'N': 28.014,\n",
       " 'Cl': 0.0,\n",
       " 'F': 0.0,\n",
       " 'S': 32.06,\n",
       " 'Tl': 0.0}"
      ]
     },
     "execution_count": 133,
     "metadata": {},
     "output_type": "execute_result"
    }
   ],
   "source": [
    "elements_components[1]"
   ]
  },
  {
   "cell_type": "code",
   "execution_count": null,
   "id": "43c27225-5135-42c9-8bc8-17033bd05354",
   "metadata": {},
   "outputs": [],
   "source": []
  }
 ],
 "metadata": {
  "kernelspec": {
   "display_name": "Python 3 (ipykernel)",
   "language": "python",
   "name": "python3"
  },
  "language_info": {
   "codemirror_mode": {
    "name": "ipython",
    "version": 3
   },
   "file_extension": ".py",
   "mimetype": "text/x-python",
   "name": "python",
   "nbconvert_exporter": "python",
   "pygments_lexer": "ipython3",
   "version": "3.9.18"
  }
 },
 "nbformat": 4,
 "nbformat_minor": 5
}
